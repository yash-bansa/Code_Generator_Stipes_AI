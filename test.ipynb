{
 "cells": [
  {
   "cell_type": "code",
   "execution_count": 1,
   "id": "7e1cc6fb",
   "metadata": {},
   "outputs": [],
   "source": [
    "from agents import *\n",
    "from config.agents_io import *"
   ]
  },
  {
   "cell_type": "code",
   "execution_count": 2,
   "id": "a30a1fe8",
   "metadata": {},
   "outputs": [],
   "source": [
    "agent = CommunicationAgent()"
   ]
  },
  {
   "cell_type": "code",
   "execution_count": null,
   "id": "b0718f51",
   "metadata": {},
   "outputs": [
    {
     "name": "stderr",
     "output_type": "stream",
     "text": [
      "INFO:httpx:HTTP Request: POST https://api.ai-gateway.tigeranalytics.com/chat/completions \"HTTP/1.1 200 OK\"\n"
     ]
    },
    {
     "name": "stdout",
     "output_type": "stream",
     "text": [
      "\n",
      "=== OUTPUT OBJECT ===\n",
      "core_intent='Migrate existing Python code to the latest PySpark code.' context_notes='The user wants to update their Python codebase to use the latest version of PySpark, implying a need for compatibility and modernization.' success=True message='Intent extracted successfully'\n"
     ]
    }
   ],
   "source": [
    "input_data = CommunicationInput(\n",
    "    conversation_history=[\n",
    "\n",
    "    ],\n",
    "    user_query=\"i want to migrate the code from python to latest pyspark code\"\n",
    ")\n",
    "\n",
    "# Call the extract_intent method\n",
    "output = await agent.extract_intent(input_data)\n",
    "\n",
    "# Print output\n",
    "print(\"\\n=== OUTPUT OBJECT ===\")\n",
    "print(output)"
   ]
  },
  {
   "cell_type": "code",
   "execution_count": 4,
   "id": "aadea6ce",
   "metadata": {},
   "outputs": [
    {
     "data": {
      "text/plain": [
       "CommunicationOutput(core_intent='Migrate existing Python code to the latest PySpark code.', context_notes='The user wants to update their Python codebase to use the latest version of PySpark, implying a need for compatibility and modernization.', success=True, message='Intent extracted successfully')"
      ]
     },
     "execution_count": 4,
     "metadata": {},
     "output_type": "execute_result"
    }
   ],
   "source": [
    "output"
   ]
  },
  {
   "cell_type": "code",
   "execution_count": 5,
   "id": "ea8a51b0",
   "metadata": {},
   "outputs": [],
   "source": [
    "query_rephrase = QueryRephraserAgent()"
   ]
  },
  {
   "cell_type": "code",
   "execution_count": null,
   "id": "1a580840",
   "metadata": {},
   "outputs": [
    {
     "name": "stderr",
     "output_type": "stream",
     "text": [
      "INFO:httpx:HTTP Request: POST https://api.ai-gateway.tigeranalytics.com/chat/completions \"HTTP/1.1 200 OK\"\n"
     ]
    }
   ],
   "source": [
    "\n",
    "\n",
    "# 4️⃣ Prepare input for query rephraser using comm_output\n",
    "rephrase_input = QueryEnhancerInput(\n",
    "core_intent=output.core_intent,\n",
    "context_notes=output.context_notes\n",
    ")\n",
    "\n",
    "# 5️⃣ Second stage: rephrase query\n",
    "rephrase_output = await query_rephrase.enhance_query(rephrase_input)\n"
   ]
  },
  {
   "cell_type": "code",
   "execution_count": 7,
   "id": "453b2711",
   "metadata": {},
   "outputs": [
    {
     "data": {
      "text/plain": [
       "QueryEnhancerOutput(developer_task='Update the existing Python codebase to be compatible with the latest version of PySpark.', is_satisfied=False, suggestions=['Specify the source of the existing Python codebase (e.g., Git repository, local files).', 'Clarify if there are specific PySpark features or APIs that need to be utilized in the updated code.', 'Indicate the expected output or testing criteria to ensure the migration is successful.'], success=True, message='LLM success')"
      ]
     },
     "execution_count": 7,
     "metadata": {},
     "output_type": "execute_result"
    }
   ],
   "source": [
    "rephrase_output"
   ]
  },
  {
   "cell_type": "code",
   "execution_count": null,
   "id": "5a5be676",
   "metadata": {},
   "outputs": [],
   "source": []
  }
 ],
 "metadata": {
  "kernelspec": {
   "display_name": "Python 3",
   "language": "python",
   "name": "python3"
  },
  "language_info": {
   "codemirror_mode": {
    "name": "ipython",
    "version": 3
   },
   "file_extension": ".py",
   "mimetype": "text/x-python",
   "name": "python",
   "nbconvert_exporter": "python",
   "pygments_lexer": "ipython3",
   "version": "3.11.3"
  }
 },
 "nbformat": 4,
 "nbformat_minor": 5
}
